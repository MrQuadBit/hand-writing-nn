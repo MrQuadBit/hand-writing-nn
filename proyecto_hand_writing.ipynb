{
  "nbformat": 4,
  "nbformat_minor": 0,
  "metadata": {
    "colab": {
      "name": "proyecto_hand_writing.ipynb",
      "provenance": [],
      "collapsed_sections": []
    },
    "kernelspec": {
      "name": "python3",
      "display_name": "Python 3"
    }
  },
  "cells": [
    {
      "cell_type": "markdown",
      "metadata": {
        "id": "RRWOQDc2LEGI"
      },
      "source": [
        "**Bibliotecas y Dependencias**"
      ]
    },
    {
      "cell_type": "code",
      "metadata": {
        "id": "V6I7k_VPISOT"
      },
      "source": [
        "import tensorflow as tf #Neuronal network\r\n",
        "\r\n",
        "from keras.datasets import mnist #MNIST Data Set (Hand writing digits)\r\n",
        "import numpy as np #Array manipulation\r\n",
        "import matplotlib.pyplot as plt #Showing data"
      ],
      "execution_count": null,
      "outputs": []
    },
    {
      "cell_type": "markdown",
      "metadata": {
        "id": "70n27nflJAF1"
      },
      "source": [
        "**Data Set**"
      ]
    },
    {
      "cell_type": "code",
      "metadata": {
        "colab": {
          "base_uri": "https://localhost:8080/"
        },
        "id": "axe-RbDTJCP-",
        "outputId": "81175ab7-4845-4ef1-cb8e-701521c83c1c"
      },
      "source": [
        "\r\n",
        "#loading data set\r\n",
        "(X_train, Y_train), (X_test, Y_test) = mnist.load_data()\r\n",
        "\r\n",
        "#stats\r\n",
        "print(\"Training\\n X = {}, Y = {}\".format(X_train.shape, Y_train.shape))\r\n",
        "print(\"Testing\\n X = {}, Y = {}\".format(X_test.shape, Y_test.shape))\r\n",
        "print(\"Tipo de dato: {}\".format(X_train.dtype))\r\n"
      ],
      "execution_count": null,
      "outputs": [
        {
          "output_type": "stream",
          "text": [
            "Training\n",
            " X = (60000, 28, 28), Y = (60000,)\n",
            "Testing\n",
            " X = (10000, 28, 28), Y = (10000,)\n",
            "Tipo de dato: uint8\n"
          ],
          "name": "stdout"
        }
      ]
    },
    {
      "cell_type": "markdown",
      "metadata": {
        "id": "jkxRZ0WtLBgZ"
      },
      "source": [
        "**Vizualización de los datos**"
      ]
    },
    {
      "cell_type": "code",
      "metadata": {
        "colab": {
          "base_uri": "https://localhost:8080/",
          "height": 268
        },
        "id": "MnJLkQ_ELL_n",
        "outputId": "295a1ce9-2fe4-4fce-f55b-c33333eb885e"
      },
      "source": [
        "for i in range(9):\r\n",
        "\tplt.subplot(330 + 1 + i)\r\n",
        "\tplt.imshow(X_train[i], cmap=plt.get_cmap('Blues'))\r\n",
        "plt.show()"
      ],
      "execution_count": null,
      "outputs": [
        {
          "output_type": "display_data",
          "data": {
            "image/png": "[encoded data removed]",
            "text/plain": [
              "<Figure size 432x288 with 9 Axes>"
            ]
          },
          "metadata": {
            "tags": [],
            "needs_background": "light"
          }
        }
      ]
    },
    {
      "cell_type": "markdown",
      "metadata": {
        "id": "x3RdQNrdP_Rm"
      },
      "source": [
        "**Normalización**"
      ]
    },
    {
      "cell_type": "code",
      "metadata": {
        "id": "7N1fegIMQBVq"
      },
      "source": [
        "#255 max value\r\n",
        "print(X_train[0])\r\n",
        "X_train = X_train.astype(\"float32\")\r\n",
        "X_train = X_train / 255.0\r\n",
        "\r\n",
        "X_test = X_test.astype(\"float32\")\r\n",
        "X_test = X_test / 255.0\r\n",
        "\r\n",
        "print(X_train[0])"
      ],
      "execution_count": null,
      "outputs": []
    },
    {
      "cell_type": "markdown",
      "metadata": {
        "id": "LfF2n39qSxBU"
      },
      "source": [
        "**Arquitectura Red Neuronal**"
      ]
    },
    {
      "cell_type": "code",
      "metadata": {
        "id": "yd4Ja42_Swca"
      },
      "source": [
        "model = tf.keras.models.Sequential()\r\n",
        "model.add(tf.keras.layers.Flatten(input_shape=[28,28]))\r\n",
        "model.add(tf.keras.layers.Dense(300, activation=\"relu\"))\r\n",
        "model.add(tf.keras.layers.Dense(100, activation=\"relu\"))\r\n",
        "model.add(tf.keras.layers.Dense(10, activation=\"softmax\"))\r\n",
        "model.summary()"
      ],
      "execution_count": null,
      "outputs": []
    },
    {
      "cell_type": "code",
      "metadata": {
        "id": "9KxfgwP6T-qn"
      },
      "source": [
        "#compilation\r\n",
        "model.compile(loss=\"sparse_categorical_crossentropy\", optimizer=\"sgd\", metrics=[\"accuracy\"])"
      ],
      "execution_count": null,
      "outputs": []
    },
    {
      "cell_type": "code",
      "metadata": {
        "colab": {
          "base_uri": "https://localhost:8080/"
        },
        "id": "vGN4wvmtUNcM",
        "outputId": "f9b6fea2-4eea-46ce-b594-bc3f43aacb66"
      },
      "source": [
        "history = model.fit(X_train, Y_train, epochs=30, validation_data=(X_test, Y_test))"
      ],
      "execution_count": null,
      "outputs": [
        {
          "output_type": "stream",
          "text": [
            "Epoch 1/30\n",
            "1875/1875 [==============================] - 5s 3ms/step - loss: 0.9576 - accuracy: 0.7488 - val_loss: 0.2972 - val_accuracy: 0.9184\n",
            "Epoch 2/30\n",
            "1875/1875 [==============================] - 5s 3ms/step - loss: 0.2904 - accuracy: 0.9171 - val_loss: 0.2414 - val_accuracy: 0.9308\n",
            "Epoch 3/30\n",
            "1875/1875 [==============================] - 5s 3ms/step - loss: 0.2292 - accuracy: 0.9347 - val_loss: 0.1978 - val_accuracy: 0.9437\n",
            "Epoch 4/30\n",
            "1875/1875 [==============================] - 5s 3ms/step - loss: 0.1927 - accuracy: 0.9463 - val_loss: 0.1707 - val_accuracy: 0.9498\n",
            "Epoch 5/30\n",
            "1875/1875 [==============================] - 5s 3ms/step - loss: 0.1655 - accuracy: 0.9532 - val_loss: 0.1540 - val_accuracy: 0.9559\n",
            "Epoch 6/30\n",
            "1875/1875 [==============================] - 5s 3ms/step - loss: 0.1412 - accuracy: 0.9601 - val_loss: 0.1412 - val_accuracy: 0.9581\n",
            "Epoch 7/30\n",
            "1875/1875 [==============================] - 5s 3ms/step - loss: 0.1301 - accuracy: 0.9644 - val_loss: 0.1253 - val_accuracy: 0.9623\n",
            "Epoch 8/30\n",
            "1875/1875 [==============================] - 5s 3ms/step - loss: 0.1199 - accuracy: 0.9669 - val_loss: 0.1168 - val_accuracy: 0.9659\n",
            "Epoch 9/30\n",
            "1875/1875 [==============================] - 5s 3ms/step - loss: 0.1075 - accuracy: 0.9707 - val_loss: 0.1081 - val_accuracy: 0.9681\n",
            "Epoch 10/30\n",
            "1875/1875 [==============================] - 5s 3ms/step - loss: 0.0961 - accuracy: 0.9736 - val_loss: 0.1017 - val_accuracy: 0.9694\n",
            "Epoch 11/30\n",
            "1875/1875 [==============================] - 5s 3ms/step - loss: 0.0887 - accuracy: 0.9762 - val_loss: 0.0982 - val_accuracy: 0.9698\n",
            "Epoch 12/30\n",
            "1875/1875 [==============================] - 5s 2ms/step - loss: 0.0783 - accuracy: 0.9781 - val_loss: 0.0945 - val_accuracy: 0.9716\n",
            "Epoch 13/30\n",
            "1875/1875 [==============================] - 5s 2ms/step - loss: 0.0729 - accuracy: 0.9796 - val_loss: 0.0892 - val_accuracy: 0.9736\n",
            "Epoch 14/30\n",
            "1875/1875 [==============================] - 5s 2ms/step - loss: 0.0691 - accuracy: 0.9814 - val_loss: 0.0855 - val_accuracy: 0.9738\n",
            "Epoch 15/30\n",
            "1875/1875 [==============================] - 5s 3ms/step - loss: 0.0670 - accuracy: 0.9817 - val_loss: 0.0826 - val_accuracy: 0.9751\n",
            "Epoch 16/30\n",
            "1875/1875 [==============================] - 5s 2ms/step - loss: 0.0598 - accuracy: 0.9838 - val_loss: 0.0825 - val_accuracy: 0.9742\n",
            "Epoch 17/30\n",
            "1875/1875 [==============================] - 5s 3ms/step - loss: 0.0557 - accuracy: 0.9845 - val_loss: 0.0796 - val_accuracy: 0.9753\n",
            "Epoch 18/30\n",
            "1875/1875 [==============================] - 5s 3ms/step - loss: 0.0537 - accuracy: 0.9854 - val_loss: 0.0786 - val_accuracy: 0.9760\n",
            "Epoch 19/30\n",
            "1875/1875 [==============================] - 5s 2ms/step - loss: 0.0488 - accuracy: 0.9870 - val_loss: 0.0804 - val_accuracy: 0.9743\n",
            "Epoch 20/30\n",
            "1875/1875 [==============================] - 5s 3ms/step - loss: 0.0464 - accuracy: 0.9879 - val_loss: 0.0797 - val_accuracy: 0.9762\n",
            "Epoch 21/30\n",
            "1875/1875 [==============================] - 5s 3ms/step - loss: 0.0430 - accuracy: 0.9897 - val_loss: 0.0718 - val_accuracy: 0.9772\n",
            "Epoch 22/30\n",
            "1875/1875 [==============================] - 5s 3ms/step - loss: 0.0405 - accuracy: 0.9899 - val_loss: 0.0734 - val_accuracy: 0.9770\n",
            "Epoch 23/30\n",
            "1875/1875 [==============================] - 5s 3ms/step - loss: 0.0383 - accuracy: 0.9906 - val_loss: 0.0704 - val_accuracy: 0.9785\n",
            "Epoch 24/30\n",
            "1875/1875 [==============================] - 5s 3ms/step - loss: 0.0354 - accuracy: 0.9914 - val_loss: 0.0703 - val_accuracy: 0.9786\n",
            "Epoch 25/30\n",
            "1875/1875 [==============================] - 5s 2ms/step - loss: 0.0353 - accuracy: 0.9918 - val_loss: 0.0690 - val_accuracy: 0.9788\n",
            "Epoch 26/30\n",
            "1875/1875 [==============================] - 5s 3ms/step - loss: 0.0328 - accuracy: 0.9921 - val_loss: 0.0689 - val_accuracy: 0.9789\n",
            "Epoch 27/30\n",
            "1875/1875 [==============================] - 5s 3ms/step - loss: 0.0297 - accuracy: 0.9927 - val_loss: 0.0696 - val_accuracy: 0.9776\n",
            "Epoch 28/30\n",
            "1875/1875 [==============================] - 5s 3ms/step - loss: 0.0292 - accuracy: 0.9936 - val_loss: 0.0683 - val_accuracy: 0.9783\n",
            "Epoch 29/30\n",
            "1875/1875 [==============================] - 5s 3ms/step - loss: 0.0262 - accuracy: 0.9941 - val_loss: 0.0671 - val_accuracy: 0.9776\n",
            "Epoch 30/30\n",
            "1875/1875 [==============================] - 5s 3ms/step - loss: 0.0241 - accuracy: 0.9945 - val_loss: 0.0684 - val_accuracy: 0.9782\n"
          ],
          "name": "stdout"
        }
      ]
    },
    {
      "cell_type": "markdown",
      "metadata": {
        "id": "TYMfg-43W8rw"
      },
      "source": [
        "**Evaluación**"
      ]
    },
    {
      "cell_type": "code",
      "metadata": {
        "colab": {
          "base_uri": "https://localhost:8080/"
        },
        "id": "kS9XTV-wUtsJ",
        "outputId": "265df30f-81e8-4749-d33e-24f3b4c7e144"
      },
      "source": [
        "model.evaluate(X_test, Y_test)"
      ],
      "execution_count": null,
      "outputs": [
        {
          "output_type": "stream",
          "text": [
            "313/313 [==============================] - 0s 1ms/step - loss: 0.0684 - accuracy: 0.9782\n"
          ],
          "name": "stdout"
        },
        {
          "output_type": "execute_result",
          "data": {
            "text/plain": [
              "[0.06842837482690811, 0.9782000184059143]"
            ]
          },
          "metadata": {
            "tags": []
          },
          "execution_count": 11
        }
      ]
    },
    {
      "cell_type": "code",
      "metadata": {
        "colab": {
          "base_uri": "https://localhost:8080/"
        },
        "id": "b9KPkdfTXJTZ",
        "outputId": "5de8d45f-2664-48d5-9d47-66cbf0ee18fe"
      },
      "source": [
        "X_new = X_test[:9]\r\n",
        "Y_proba = model.predict(X_new)\r\n",
        "Y_pred = np.argmax(model.predict(X_new), axis=-1)\r\n",
        "print(Y_pred)"
      ],
      "execution_count": null,
      "outputs": [
        {
          "output_type": "stream",
          "text": [
            "[7 2 1 0 4 1 4 9 5]\n"
          ],
          "name": "stdout"
        }
      ]
    },
    {
      "cell_type": "code",
      "metadata": {
        "colab": {
          "base_uri": "https://localhost:8080/",
          "height": 268
        },
        "id": "l1eqzIYJYW8v",
        "outputId": "ed322192-c8cd-4efd-a54f-ca736332113e"
      },
      "source": [
        "for i in range(9):\r\n",
        "\tplt.subplot(330 + 1 + i)\r\n",
        "\tplt.imshow(X_new[i], cmap=plt.get_cmap('Blues'))\r\n",
        "plt.show()"
      ],
      "execution_count": null,
      "outputs": [
        {
          "output_type": "display_data",
          "data": {
            "image/png": "[encoded data removed]",
            "text/plain": [
              "<Figure size 432x288 with 9 Axes>"
            ]
          },
          "metadata": {
            "tags": [],
            "needs_background": "light"
          }
        }
      ]
    },
    {
      "cell_type": "markdown",
      "metadata": {
        "id": "4Tt2d1z3Zcc-"
      },
      "source": [
        "**Exportar modelo**"
      ]
    },
    {
      "cell_type": "code",
      "metadata": {
        "id": "WTSfos1wZvkt"
      },
      "source": [
        "model.save(\"hand_writing_nn.h5\")"
      ],
      "execution_count": null,
      "outputs": []
    },
    {
      "cell_type": "code",
      "metadata": {
        "id": "aS0jCoqlalvT"
      },
      "source": [
        "#importar\r\n",
        "#from keras.models import load_model\r\n",
        "#model = load_model(\"hand_writing_nn.h5\")"
      ],
      "execution_count": null,
      "outputs": []
    }
  ]
}